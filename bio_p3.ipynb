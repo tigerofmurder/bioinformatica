{
  "nbformat": 4,
  "nbformat_minor": 0,
  "metadata": {
    "colab": {
      "name": "bio_p3.ipynb",
      "provenance": [],
      "collapsed_sections": [],
      "include_colab_link": true
    },
    "kernelspec": {
      "name": "python3",
      "display_name": "Python 3"
    },
    "language_info": {
      "name": "python"
    }
  },
  "cells": [
    {
      "cell_type": "markdown",
      "metadata": {
        "id": "view-in-github",
        "colab_type": "text"
      },
      "source": [
        "<a href=\"https://colab.research.google.com/github/tigerofmurder/bioinformatica/blob/main/bio_p3.ipynb\" target=\"_parent\"><img src=\"https://colab.research.google.com/assets/colab-badge.svg\" alt=\"Open In Colab\"/></a>"
      ]
    },
    {
      "cell_type": "code",
      "metadata": {
        "colab": {
          "base_uri": "https://localhost:8080/",
          "height": 172
        },
        "id": "mWrBEAJGIQrr",
        "outputId": "7cd24d41-9e47-424a-da85-10c34e80b0cb"
      },
      "source": [
        "import pandas as pd\n",
        "import numpy as np\n",
        "\n",
        "\n",
        "df = pd.DataFrame([[2,-7,-5,-7],[-7,2,-7,-5],[-5,-7,2,-7],[-7,-5,-7,2]], index=[\"A\", \"C\", \"G\", \"T\"], columns=[\"A\", \"C\", \"G\", \"T\"])\n",
        "\n",
        "df.head()"
      ],
      "execution_count": null,
      "outputs": [
        {
          "output_type": "execute_result",
          "data": {
            "text/html": [
              "<div>\n",
              "<style scoped>\n",
              "    .dataframe tbody tr th:only-of-type {\n",
              "        vertical-align: middle;\n",
              "    }\n",
              "\n",
              "    .dataframe tbody tr th {\n",
              "        vertical-align: top;\n",
              "    }\n",
              "\n",
              "    .dataframe thead th {\n",
              "        text-align: right;\n",
              "    }\n",
              "</style>\n",
              "<table border=\"1\" class=\"dataframe\">\n",
              "  <thead>\n",
              "    <tr style=\"text-align: right;\">\n",
              "      <th></th>\n",
              "      <th>A</th>\n",
              "      <th>C</th>\n",
              "      <th>G</th>\n",
              "      <th>T</th>\n",
              "    </tr>\n",
              "  </thead>\n",
              "  <tbody>\n",
              "    <tr>\n",
              "      <th>A</th>\n",
              "      <td>2</td>\n",
              "      <td>-7</td>\n",
              "      <td>-5</td>\n",
              "      <td>-7</td>\n",
              "    </tr>\n",
              "    <tr>\n",
              "      <th>C</th>\n",
              "      <td>-7</td>\n",
              "      <td>2</td>\n",
              "      <td>-7</td>\n",
              "      <td>-5</td>\n",
              "    </tr>\n",
              "    <tr>\n",
              "      <th>G</th>\n",
              "      <td>-5</td>\n",
              "      <td>-7</td>\n",
              "      <td>2</td>\n",
              "      <td>-7</td>\n",
              "    </tr>\n",
              "    <tr>\n",
              "      <th>T</th>\n",
              "      <td>-7</td>\n",
              "      <td>-5</td>\n",
              "      <td>-7</td>\n",
              "      <td>2</td>\n",
              "    </tr>\n",
              "  </tbody>\n",
              "</table>\n",
              "</div>"
            ],
            "text/plain": [
              "   A  C  G  T\n",
              "A  2 -7 -5 -7\n",
              "C -7  2 -7 -5\n",
              "G -5 -7  2 -7\n",
              "T -7 -5 -7  2"
            ]
          },
          "metadata": {
            "tags": []
          },
          "execution_count": 38
        }
      ]
    },
    {
      "cell_type": "markdown",
      "metadata": {
        "id": "0OSHrMqkmP2M"
      },
      "source": [
        "### **Funcion para crear la matriz de miss_match y match**"
      ]
    },
    {
      "cell_type": "code",
      "metadata": {
        "id": "pLtsudTUXkKO"
      },
      "source": [
        "def make_match_missmatch_score(A,B,missmatch,match):\n",
        "  values = set(A+B)\n",
        "  an_array = np.full((len(values), len(values)), missmatch)\n",
        "  np.fill_diagonal(an_array,match)\n",
        "  df = pd.DataFrame(an_array, index=values, columns=values)\n",
        "  return df"
      ],
      "execution_count": null,
      "outputs": []
    },
    {
      "cell_type": "markdown",
      "metadata": {
        "id": "0WduczttmYpu"
      },
      "source": [
        "### **Alineamiento de secuencias**"
      ]
    },
    {
      "cell_type": "code",
      "metadata": {
        "colab": {
          "base_uri": "https://localhost:8080/",
          "height": 341
        },
        "id": "gB69YTw8qPUW",
        "outputId": "279e744a-3efd-451d-af0a-46dcb6278f9e"
      },
      "source": [
        "def funcion(A,B,d,s=df,missmatch = -2,match = 2,m_b = False):\n",
        "  if m_b==True:\n",
        "    s = make_match_missmatch_score(A,B,missmatch,match)\n",
        "  A = \"-\"+A\n",
        "  A = [i for i in A]\n",
        "  B = \"-\"+B\n",
        "  B = [i for i in B]\n",
        "  print(s.head())\n",
        "  matrix = np.zeros((len(B),len(A)))\n",
        "  \n",
        "  matrix[0,:] = [d*i for i in range(len(A))]\n",
        "  matrix[:,0] = [d*i for i in range(len(B))]\n",
        "\n",
        "  for i in range(1,len(A)):\n",
        "    for j in range(1,len(B)):\n",
        "        v1 = matrix[j-1][i-1] + s[A[i]][B[j]]\n",
        "        v3 = matrix[j-1][i] + d\n",
        "        v2 = matrix[j][i-1] + d\n",
        "        matrix[j][i] = max(v1,v2,v3)\n",
        "  str1 = \"\"\n",
        "  str2 = \"\"\n",
        "  i,j = len(A)-1,len(B)-1\n",
        "  while i>0 and j>0:\n",
        "    if matrix[j][i] == matrix[j-1][i]+d:\n",
        "      str1+=\"-\"\n",
        "      str2+=B[j]\n",
        "      j = j-1\n",
        "      #print(\"Second com\")\n",
        "    elif matrix[j][i] == matrix[j-1][i-1] + s[A[i]][B[j]]:\n",
        "      str1+=A[i]\n",
        "      str2+=B[j]\n",
        "      i,j = i-1,j-1\n",
        "      #print(\"First com\")\n",
        "    else:\n",
        "      str1+=A[i]\n",
        "      str2+=\"-\"\n",
        "      i = i-1\n",
        "      #print(\"3 com\")\n",
        "  while i>0:\n",
        "    str1+=A[i]\n",
        "    str2+=\"-\"\n",
        "    i = i-1\n",
        "  while j>0:\n",
        "    str1+=\"-\"\n",
        "    str2+=B[j]\n",
        "    j = j-1\n",
        "  print(\"Secuencia 1: \",str1[::-1])\n",
        "  print(\"Secuencia 2: \",str2[::-1])\n",
        "  cont_sum = 0\n",
        "  for i in range(len(str1)):\n",
        "    if str1[i]==str2[i]:\n",
        "      cont_sum+=s[str1[i]][str2[i]]\n",
        "    elif str1[i]==\"-\" or str2[i]==\"-\":\n",
        "      cont_sum+=d\n",
        "    else:\n",
        "      cont_sum+=s[str1[i]][str2[i]]\n",
        "  print(\"Score: \",cont_sum)\n",
        "  return matrix,A,B\n",
        "#values,A,B = funcion(\"AGC\",\"AAAC\",d=-2,missmatch=-1,match=1,m_b=True)\n",
        "#values,A,B = funcion(\"AGC\",\"AAAC\",d=-2,s=df)\n",
        "#values,A,B = funcion(\"TTCG\",\"ATAG\",d=-1,missmatch=-1,match=1,m_b=True)\n",
        "values,A,B = funcion(\"TTCG\",\"ATAG\",d=-2)\n",
        "#values,A,B = funcion(\"ATACTGGG\",\"TGACTGAG\",d=-2,missmatch=-1,match=1,m_b=True)\n",
        "#values,A,B = funcion(\"ATACTGGG\",\"TGACTGAG\",d=-2)\n",
        "pdyn = pd.DataFrame(values, index=B, columns=A)\n",
        "pdyn"
      ],
      "execution_count": null,
      "outputs": [
        {
          "output_type": "stream",
          "text": [
            "   A  C  G  T\n",
            "A  2 -7 -5 -7\n",
            "C -7  2 -7 -5\n",
            "G -5 -7  2 -7\n",
            "T -7 -5 -7  2\n",
            "Secuencia 1:  T-TC-G\n",
            "Secuencia 2:  -AT-AG\n",
            "Score:  -4\n"
          ],
          "name": "stdout"
        },
        {
          "output_type": "execute_result",
          "data": {
            "text/html": [
              "<div>\n",
              "<style scoped>\n",
              "    .dataframe tbody tr th:only-of-type {\n",
              "        vertical-align: middle;\n",
              "    }\n",
              "\n",
              "    .dataframe tbody tr th {\n",
              "        vertical-align: top;\n",
              "    }\n",
              "\n",
              "    .dataframe thead th {\n",
              "        text-align: right;\n",
              "    }\n",
              "</style>\n",
              "<table border=\"1\" class=\"dataframe\">\n",
              "  <thead>\n",
              "    <tr style=\"text-align: right;\">\n",
              "      <th></th>\n",
              "      <th>-</th>\n",
              "      <th>T</th>\n",
              "      <th>T</th>\n",
              "      <th>C</th>\n",
              "      <th>G</th>\n",
              "    </tr>\n",
              "  </thead>\n",
              "  <tbody>\n",
              "    <tr>\n",
              "      <th>-</th>\n",
              "      <td>0.0</td>\n",
              "      <td>-2.0</td>\n",
              "      <td>-4.0</td>\n",
              "      <td>-6.0</td>\n",
              "      <td>-8.0</td>\n",
              "    </tr>\n",
              "    <tr>\n",
              "      <th>A</th>\n",
              "      <td>-2.0</td>\n",
              "      <td>-4.0</td>\n",
              "      <td>-6.0</td>\n",
              "      <td>-8.0</td>\n",
              "      <td>-10.0</td>\n",
              "    </tr>\n",
              "    <tr>\n",
              "      <th>T</th>\n",
              "      <td>-4.0</td>\n",
              "      <td>0.0</td>\n",
              "      <td>-2.0</td>\n",
              "      <td>-4.0</td>\n",
              "      <td>-6.0</td>\n",
              "    </tr>\n",
              "    <tr>\n",
              "      <th>A</th>\n",
              "      <td>-6.0</td>\n",
              "      <td>-2.0</td>\n",
              "      <td>-4.0</td>\n",
              "      <td>-6.0</td>\n",
              "      <td>-8.0</td>\n",
              "    </tr>\n",
              "    <tr>\n",
              "      <th>G</th>\n",
              "      <td>-8.0</td>\n",
              "      <td>-4.0</td>\n",
              "      <td>-6.0</td>\n",
              "      <td>-8.0</td>\n",
              "      <td>-4.0</td>\n",
              "    </tr>\n",
              "  </tbody>\n",
              "</table>\n",
              "</div>"
            ],
            "text/plain": [
              "     -    T    T    C     G\n",
              "-  0.0 -2.0 -4.0 -6.0  -8.0\n",
              "A -2.0 -4.0 -6.0 -8.0 -10.0\n",
              "T -4.0  0.0 -2.0 -4.0  -6.0\n",
              "A -6.0 -2.0 -4.0 -6.0  -8.0\n",
              "G -8.0 -4.0 -6.0 -8.0  -4.0"
            ]
          },
          "metadata": {
            "tags": []
          },
          "execution_count": 84
        }
      ]
    }
  ]
}